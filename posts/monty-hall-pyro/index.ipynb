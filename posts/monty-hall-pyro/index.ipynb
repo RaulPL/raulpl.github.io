{
 "cells": [
  {
   "cell_type": "markdown",
   "metadata": {
    "pycharm": {
     "name": "#%% md\n"
    }
   },
   "source": [
    "##  Monty Hall problem\n",
    "\n",
    "In this notebook we will explore the Monty Hall problem and we will solve\n",
    "it using Pyro. You can run the code in this notebook with binder using this\n",
    "[link](https://mybinder.org/v2/gh/RaulPL/bayesian_statistics_notes/master?filepath=notebooks/monty_hall_pyro.ipynb).\n",
    "\n",
    "Watch this [video](https://www.youtube.com/watch?v=4Lb-6rxZxx0) if you don't\n",
    "know about this problem. You can also read more about its history in the\n",
    "[wikipedia](https://en.wikipedia.org/wiki/Monty_Hall_problem) page.\n"
   ]
  },
  {
   "cell_type": "code",
   "execution_count": 1,
   "metadata": {
    "jupyter": {
     "outputs_hidden": false
    },
    "pycharm": {
     "name": "#%%\n"
    }
   },
   "outputs": [],
   "source": [
    "import daft\n",
    "import torch\n",
    "import pyro\n",
    "import math\n",
    "import pyro.distributions as dist\n",
    "import matplotlib.pyplot as plt\n",
    "from pyro.infer import Importance, EmpiricalMarginal\n",
    "from typing import Dict, List\n",
    "from collections import Counter\n",
    "\n",
    "pyro.set_rng_seed(101)\n",
    "pyro.enable_validation(True)"
   ]
  },
  {
   "cell_type": "markdown",
   "metadata": {
    "pycharm": {
     "name": "#%% md\n"
    }
   },
   "source": [
    "At first glance it is not obvious to note that the best strategy is\n",
    "always to switch to the other door but from the video we learned that this\n",
    "calculation can be done with pen and paper. Here we are going to solve it with Pyro to see that\n",
    "we can get to same answer using a probabilistic programming tool.\n",
    "\n",
    "Pyro requieres that we program the generative process of the problem (the model) using simple annotations. \n",
    "Then we condition the model on observed variables (in this case are the constestant's door and\n",
    "the host's door) with special functions to get a new constrained model, which will be the input to \n",
    "an inference algorithm that will calculate a posterior distribution over the\n",
    "unobserved variable (the prize's door).\n",
    "\n",
    "\n",
    "The generative process of this problem is the following:\n",
    "1. The prize is placed behind one of the 3 doors at random. This information\n",
    "is only available to the host.\n",
    "2. The contestant select one of the doors without open it. The host observes\n",
    "the selected door.\n",
    "3. The host choose a door that doesn't contain the prize and that it is different from\n",
    "the contestant's door.\n",
    "4. Finally, the contestan has to choose between keeping her initial choice or\n",
    "pick the remaining door.\n",
    "\n",
    "\n",
    "Lets start by programming a function that calculates the probability that\n",
    "a door will be opened by the host."
   ]
  },
  {
   "cell_type": "code",
   "execution_count": 2,
   "metadata": {
    "jupyter": {
     "outputs_hidden": false
    },
    "pycharm": {
     "name": "#%%\n"
    }
   },
   "outputs": [],
   "source": [
    "def host_conditional_probs(prize_door: int,\n",
    "                           contestant_door: int) -> List[float]:\n",
    "    \"\"\"Given the location of the prize and the contestant's door, \n",
    "    the function returns the probabilities over the choices \n",
    "    of the host.\"\"\"\n",
    "    if prize_door == contestant_door:\n",
    "        probs = [0.5, 0.5, 0.5]\n",
    "        probs[contestant_door] = 0.\n",
    "        return probs\n",
    "    probs = [1., 1., 1.]\n",
    "    probs[contestant_door] = 0.\n",
    "    probs[prize_door] = 0.\n",
    "    return probs"
   ]
  },
  {
   "cell_type": "markdown",
   "metadata": {
    "pycharm": {
     "name": "#%% md\n"
    }
   },
   "source": [
    "Now lets test this function in two different scenarios in order to see the possible\n",
    "choices of the host given the inputs:\n",
    "* the contestant selects the door with the prize\n",
    "* the contestant selects a door without the prize\n",
    "\n",
    "As you can see when the prize and the contestant's door are different the host\n",
    "has only one possible choice."
   ]
  },
  {
   "cell_type": "code",
   "execution_count": 3,
   "metadata": {
    "jupyter": {
     "outputs_hidden": false
    },
    "pycharm": {
     "name": "#%%\n"
    }
   },
   "outputs": [],
   "source": [
    "# door ∈ {0, 1, 2}\n",
    "prize_door = 0\n",
    "contestant_door = 0\n",
    "assert host_conditional_probs(prize_door, contestant_door) == [0, 0.5, 0.5]\n",
    "\n",
    "prize_door = 0\n",
    "contestant_door = 1\n",
    "assert host_conditional_probs(prize_door, contestant_door) == [0, 0, 1]"
   ]
  },
  {
   "cell_type": "markdown",
   "metadata": {},
   "source": [
    "We can also describe the problem as a probabilistic graphical model (PGM) where\n",
    "the location of the prize and the choices made by the contestant and the host\n",
    "are random variables represented by nodes in the graph below. The edges represent \n",
    "dependencies between these variables, and as you can see from the graph the \n",
    "choice of the host depends on the location of the prize and the contestant's choice.\n",
    "In this PGM the nodes that are shaded indicate that the variables are observed (by the contestant,\n",
    "since it is the person interested in solving the problem).\n",
    "\n",
    "\n",
    "\n"
   ]
  },
  {
   "cell_type": "code",
   "execution_count": 4,
   "metadata": {
    "jupyter": {
     "outputs_hidden": false
    },
    "pycharm": {
     "name": "#%%\n"
    }
   },
   "outputs": [
    {
     "data": {
      "image/png": "[encoded data removed]",
      "text/plain": [
       "<Figure size 209.764x195.591 with 1 Axes>"
      ]
     },
     "metadata": {},
     "output_type": "display_data"
    }
   ],
   "source": [
    "pgm = daft.PGM()\n",
    "scale = 3\n",
    "pgm.add_node(\"prize\", \"prize_door\", 0.5, 2, scale=scale)\n",
    "pgm.add_node(\"contestant\", \"contestant_door\", 2.5, 2, scale=scale, observed=True)\n",
    "pgm.add_node(\"host\", \"host_door\", 1.5, 0.25, scale=scale, observed=True)\n",
    "pgm.add_edge(\"prize\", \"host\")\n",
    "pgm.add_edge(\"contestant\", \"host\")\n",
    "pgm.render();"
   ]
  },
  {
   "cell_type": "markdown",
   "metadata": {
    "pycharm": {
     "name": "#%% md\n"
    }
   },
   "source": [
    "If your familiar with PGMs you will notice that the graph is a\n",
    "v-strutucture (collider) which means that if the child node is observed\n",
    "the parent nodes will become dependent. So it is through the host's choice\n",
    "that we can learn something about the location of the prize.\n",
    "\n",
    "Now, lets code the model using Pyro."
   ]
  },
  {
   "cell_type": "code",
   "execution_count": 5,
   "metadata": {
    "jupyter": {
     "outputs_hidden": false
    },
    "pycharm": {
     "name": "#%%\n"
    }
   },
   "outputs": [
    {
     "data": {
      "text/plain": [
       "{'prize_door': tensor(1), 'host_door': tensor(2)}"
      ]
     },
     "execution_count": 5,
     "metadata": {},
     "output_type": "execute_result"
    }
   ],
   "source": [
    "def monty_hall_model(contestant_door: int):\n",
    "    \"\"\"Monty Hall model\"\"\"\n",
    "    probs_loc_prize = torch.tensor([1/3, 1/3, 1/3])\n",
    "    # assign the prize to a door with equal probability\n",
    "    prize_door = pyro.sample('prize_door', dist.Categorical(probs_loc_prize))\n",
    "    host_probs = host_conditional_probs(int(prize_door), contestant_door)\n",
    "    host_door = pyro.sample(\n",
    "        'host_door', dist.Categorical(torch.tensor(host_probs))\n",
    "    )\n",
    "    return {'prize_door': prize_door, 'host_door': host_door}\n",
    "\n",
    "\n",
    "contestant_door = 0\n",
    "monty_hall_model(contestant_door)"
   ]
  },
  {
   "cell_type": "markdown",
   "metadata": {
    "pycharm": {
     "name": "#%% md\n"
    }
   },
   "source": [
    "If we run the model multiple times like a normal function we will get feasible\n",
    "scenarios of the problem. Here the probability distribution of the prize's door is uniform among the\n",
    "the 3 choices. Lets simulate the model 1000 times and check that it is the case:"
   ]
  },
  {
   "cell_type": "code",
   "execution_count": 6,
   "metadata": {
    "jupyter": {
     "outputs_hidden": false
    },
    "pycharm": {
     "name": "#%%\n"
    }
   },
   "outputs": [
    {
     "data": {
      "text/plain": [
       "{'prob_door_0': 0.338, 'prob_door_1': 0.315, 'prob_door_2': 0.347}"
      ]
     },
     "execution_count": 6,
     "metadata": {},
     "output_type": "execute_result"
    }
   ],
   "source": [
    "n_samples = 1000\n",
    "samples = [\n",
    "    monty_hall_model(contestant_door)['prize_door'].item()\n",
    "    for _ in range(n_samples)\n",
    "]\n",
    "counter = Counter(samples)\n",
    "{f'prob_door_{door}': c/n_samples for door, c in counter.items()}"
   ]
  },
  {
   "cell_type": "markdown",
   "metadata": {
    "pycharm": {
     "name": "#%% md\n"
    }
   },
   "source": [
    "But what happens if we condition our model on knowing the value of the host's\n",
    "choice? We get a new model with additional contrains. In Pyro we can condition a model on \n",
    "new data using the pyro.condition poutine.\n"
   ]
  },
  {
   "cell_type": "code",
   "execution_count": 7,
   "metadata": {
    "jupyter": {
     "outputs_hidden": false
    },
    "pycharm": {
     "name": "#%%\n"
    }
   },
   "outputs": [],
   "source": [
    "host_door = 1\n",
    "\n",
    "# Conditioned model on host's door\n",
    "cond_model = pyro.condition(\n",
    "    monty_hall_model, data={\"host_door\": torch.tensor(host_door)}\n",
    ")"
   ]
  },
  {
   "cell_type": "markdown",
   "metadata": {
    "pycharm": {
     "name": "#%% md\n"
    }
   },
   "source": [
    "Now we only need to run an (approximate) inference algorithm to estimate the\n",
    "posterior distribution of the unobserved variable. We will use importance sampling, which is one of the algorithms available in the library."
   ]
  },
  {
   "cell_type": "code",
   "execution_count": 8,
   "metadata": {
    "jupyter": {
     "outputs_hidden": false
    },
    "pycharm": {
     "name": "#%%\n"
    }
   },
   "outputs": [],
   "source": [
    "contestant_door = 0\n",
    "# the doors have to be different\n",
    "assert contestant_door != host_door\n",
    "# approximate inference\n",
    "n_samples = 1000\n",
    "traces = Importance(cond_model, num_samples=n_samples).run(contestant_door)\n",
    "prize_marginal = EmpiricalMarginal(traces, [\"prize_door\"])\n",
    "samples = [prize_marginal().detach().item() for _ in range(n_samples)]"
   ]
  },
  {
   "cell_type": "markdown",
   "metadata": {
    "pycharm": {
     "name": "#%% md\n"
    }
   },
   "source": [
    "Finally, lets plot the posterior distribution of the location of the prize"
   ]
  },
  {
   "cell_type": "code",
   "execution_count": 9,
   "metadata": {
    "jupyter": {
     "outputs_hidden": false
    },
    "pycharm": {
     "name": "#%%\n"
    }
   },
   "outputs": [
    {
     "data": {
      "image/png": "[encoded data removed]",
      "text/plain": [
       "<Figure size 432x288 with 1 Axes>"
      ]
     },
     "metadata": {
      "needs_background": "light"
     },
     "output_type": "display_data"
    }
   ],
   "source": [
    "def calculate_posterior_probs(samples: List[int]) -> Dict[int, float]:\n",
    "    doors = [0, 1, 2]\n",
    "    counter = Counter(samples)\n",
    "    probs = {d: counter.get(d, 0) / len(samples) for d in doors}\n",
    "    return probs\n",
    "\n",
    "\n",
    "def posterior_plot(probs: Dict[int, float]):\n",
    "    fig, ax = plt.subplots(1, 1)\n",
    "    doors = sorted(probs.keys())\n",
    "    heights = [probs[d] for d in doors]\n",
    "    ax.bar(doors, heights)\n",
    "    ax.set_title('Probability of the location of the prize')\n",
    "    ax.set_ylabel('Probability')\n",
    "    ax.set_ylim(0, 1)\n",
    "    plt.xticks(doors, ('#0', '#1', '#2'))\n",
    "\n",
    "\n",
    "posterior = calculate_posterior_probs(samples)\n",
    "assert sum(posterior.values()) == 1\n",
    "assert posterior[1] == 0\n",
    "assert math.isclose(posterior[2], 2/3, abs_tol=0.03)\n",
    "posterior_plot(posterior)"
   ]
  },
  {
   "cell_type": "markdown",
   "metadata": {},
   "source": [
    "From the plot it is possible to see that probability is higher for\n",
    "door #2 so it is better to switch in order to have a better chance of\n",
    "finding the prize. Also note that the probability for door #1 is zero,\n",
    "this makes sense since it is the door chosen by the host.\n",
    "\n"
   ]
  }
 ],
 "metadata": {
  "kernelspec": {
   "display_name": "Python 3",
   "language": "python",
   "name": "python3"
  },
  "language_info": {
   "codemirror_mode": {
    "name": "ipython",
    "version": 3
   },
   "file_extension": ".py",
   "mimetype": "text/x-python",
   "name": "python",
   "nbconvert_exporter": "python",
   "pygments_lexer": "ipython3",
   "version": "3.8.3"
  },
  "nikola": {
   "date": "2020-07-02 10:00:00 UTC",
   "slug": "monty-hall-pyro",
   "title": "Solving the Monty Hall problem with Pyro"
  }
 },
 "nbformat": 4,
 "nbformat_minor": 4
}
